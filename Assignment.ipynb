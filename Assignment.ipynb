{
 "cells": [
  {
   "cell_type": "markdown",
   "id": "141a7319",
   "metadata": {},
   "source": [
    " # **Project Name**    - Stock Price Forecasting for Yes Bank\n",
    "\n"
   ]
  },
  {
   "cell_type": "markdown",
   "id": "b0c052fe",
   "metadata": {},
   "source": [
    "##### **Project Type**    - Regression\n",
    "##### **Contribution**    - Individual\n",
    "##### **Name -**  Prakhar Srivastava"
   ]
  },
  {
   "cell_type": "markdown",
   "id": "678dd4f2",
   "metadata": {},
   "source": [
    "# **Project Summary -**"
   ]
  },
  {
   "cell_type": "markdown",
   "id": "e67a094c",
   "metadata": {},
   "source": [
    "Write the summary here within 500-600 words."
   ]
  },
  {
   "cell_type": "markdown",
   "id": "ffddbfe9",
   "metadata": {},
   "source": [
    "# **GitHub Link -**"
   ]
  },
  {
   "cell_type": "markdown",
   "id": "ff7dd2b0",
   "metadata": {},
   "source": [
    "Provide your GitHub Link here."
   ]
  },
  {
   "cell_type": "markdown",
   "id": "c046a013",
   "metadata": {},
   "source": [
    "# **Problem Statement**\n"
   ]
  },
  {
   "cell_type": "markdown",
   "id": "ff1087bd",
   "metadata": {},
   "source": [
    "Write Problem Statement Here."
   ]
  },
  {
   "cell_type": "markdown",
   "id": "e7b82317",
   "metadata": {},
   "source": [
    "#### **Define Your Business Objective?**"
   ]
  },
  {
   "cell_type": "markdown",
   "id": "73e56e94",
   "metadata": {},
   "source": [
    "Answer Here."
   ]
  },
  {
   "cell_type": "markdown",
   "id": "4ca004f5",
   "metadata": {},
   "source": [
    "# ***Let's Begin !***"
   ]
  },
  {
   "cell_type": "markdown",
   "id": "f91945c4",
   "metadata": {},
   "source": [
    "## ***1. Know Your Data***"
   ]
  },
  {
   "cell_type": "markdown",
   "id": "056b12cf",
   "metadata": {},
   "source": [
    "### Import Libraries"
   ]
  },
  {
   "cell_type": "code",
   "execution_count": null,
   "id": "9b4dc6dc",
   "metadata": {},
   "outputs": [],
   "source": [
    "# Import Libraries\n",
    "import pandas as pd\n",
    "import numpy as np"
   ]
  },
  {
   "cell_type": "markdown",
   "id": "4f1f10e4",
   "metadata": {},
   "source": [
    "### Dataset Loading"
   ]
  },
  {
   "cell_type": "code",
   "execution_count": null,
   "id": "eb69965a",
   "metadata": {},
   "outputs": [],
   "source": [
    "# Load Dataset\n",
    "df=pd.read_csv(\"data_YesBank_StockPrices.csv\")"
   ]
  },
  {
   "cell_type": "markdown",
   "id": "9ee822e3",
   "metadata": {},
   "source": [
    "### Dataset First View"
   ]
  },
  {
   "cell_type": "code",
   "execution_count": null,
   "id": "05bd3a70",
   "metadata": {},
   "outputs": [],
   "source": [
    "# Dataset First Look\n",
    "df.head()"
   ]
  },
  {
   "cell_type": "markdown",
   "id": "ccd8d815",
   "metadata": {},
   "source": [
    "### Dataset Rows & Columns count"
   ]
  },
  {
   "cell_type": "code",
   "execution_count": null,
   "id": "f9f57cf2",
   "metadata": {},
   "outputs": [],
   "source": [
    "#Dataset Rows & Columns count\n",
    "print(\"Number of Rows:\", df.shape[0])\n",
    "print(\"Number of Columns:\", df.shape[1])\n",
    "print(\"Column Names:\", df.columns.tolist())"
   ]
  },
  {
   "cell_type": "markdown",
   "id": "fbaa719f",
   "metadata": {},
   "source": [
    "### Dataset Information"
   ]
  },
  {
   "cell_type": "code",
   "execution_count": null,
   "id": "3690f364",
   "metadata": {},
   "outputs": [],
   "source": [
    "# Dataset Info\n",
    "df.info()"
   ]
  },
  {
   "cell_type": "markdown",
   "id": "dbf07164",
   "metadata": {},
   "source": [
    "#### Duplicate Values"
   ]
  },
  {
   "cell_type": "code",
   "execution_count": null,
   "id": "f0ec20f1",
   "metadata": {},
   "outputs": [],
   "source": [
    "# Dataset Duplicate Value Count\n",
    "int(df.duplicated().sum())"
   ]
  },
  {
   "cell_type": "markdown",
   "id": "f7d2ea29",
   "metadata": {},
   "source": [
    "#### Missing Values/Null Values"
   ]
  },
  {
   "cell_type": "code",
   "execution_count": null,
   "id": "8a87de06",
   "metadata": {},
   "outputs": [],
   "source": [
    "# Missing Values/Null Values Count\n",
    "df.isna().sum()"
   ]
  },
  {
   "cell_type": "markdown",
   "id": "5cbc2043",
   "metadata": {},
   "source": [
    "### 📊 Lets Explore What Did We Learn About the Dataset?"
   ]
  },
  {
   "cell_type": "markdown",
   "id": "ba2ebafa",
   "metadata": {},
   "source": [
    "The dataset contains historical stock prices of Yes Bank, with 185 rows and 5 columns.\n",
    "\n",
    "Each row represents stock data for a specific date, and the columns include:\n",
    "\n",
    "- **Date:** The date of the record (object type; can be converted to datetime)\n",
    "\n",
    "- **Open:** Stock price at market open\n",
    "\n",
    "- **High:** Highest price of the day\n",
    " \n",
    "- **Low:** Lowest price of the day\n",
    " \n",
    "- **Close:** Stock price at market close\n",
    "\n",
    "✅ All columns have complete data — no missing or null values were found.\n",
    "\n",
    "✅ There are no duplicate rows, indicating the dataset is clean.\n",
    "\n",
    "🧮 The numeric columns (Open, High, Low, Close) are of type float64, suitable for further statistical analysis and modeling."
   ]
  },
  {
   "cell_type": "markdown",
   "id": "e3251b94",
   "metadata": {},
   "source": [
    "## ***2. Understanding Your Variables***"
   ]
  },
  {
   "cell_type": "code",
   "execution_count": null,
   "id": "3413322d",
   "metadata": {},
   "outputs": [],
   "source": [
    "# Dataset Columns\n",
    "df.columns.tolist()"
   ]
  },
  {
   "cell_type": "code",
   "execution_count": null,
   "id": "bf42387e",
   "metadata": {},
   "outputs": [],
   "source": [
    "# Dataset Describe\n",
    "df.describe()"
   ]
  },
  {
   "cell_type": "markdown",
   "id": "c9f84462",
   "metadata": {},
   "source": [
    "### Variables Description"
   ]
  },
  {
   "cell_type": "markdown",
   "id": "28991465",
   "metadata": {},
   "source": [
    "Below is a brief description of each variable in the dataset:\n",
    "\n",
    "- **Date**: The trading date for each record. While it is not used directly in prediction models, it is important for time-based analysis, trend visualization, and for creating additional time-related features (e.g., day of the week, month).\n",
    "  \n",
    "- **Open**: The price at which Yes Bank's stock opened for trading on a given day.\n",
    "\n",
    "- **High**: The highest price reached by the stock during the trading day.\n",
    "\n",
    "- **Low**: The lowest price reached by the stock during the trading day.\n",
    "\n",
    "- **Close**: The final price of the stock at market close. This is often used as the **target variable** for stock price prediction tasks.\n",
    "\n",
    "> All price-related columns (`Open`, `High`, `Low`, `Close`) are continuous numerical variables and are essential for trend and pattern analysis.\n"
   ]
  },
  {
   "cell_type": "markdown",
   "id": "3f8c9b73",
   "metadata": {},
   "source": [
    "### Check Unique Values for each variable."
   ]
  },
  {
   "cell_type": "code",
   "execution_count": null,
   "id": "49352ecf",
   "metadata": {},
   "outputs": [],
   "source": [
    "# Check Unique Values for each variable.\n",
    "df.nunique()"
   ]
  },
  {
   "cell_type": "markdown",
   "id": "1da9a530",
   "metadata": {},
   "source": [
    "## 3. ***Data Wrangling***"
   ]
  },
  {
   "cell_type": "markdown",
   "id": "51950cd0",
   "metadata": {},
   "source": [
    "### Data Wrangling Code"
   ]
  },
  {
   "cell_type": "code",
   "execution_count": null,
   "id": "d7a1b02d",
   "metadata": {},
   "outputs": [],
   "source": [
    "\n",
    "df['Date'] = pd.to_datetime(df['Date'], format='%b-%y')\n",
    "\n",
    "df = df.drop_duplicates()\n",
    "\n",
    "\n",
    "df['Month'] = df['Date'].dt.month\n",
    "df['Year'] = df['Date'].dt.year\n",
    "\n",
    "df['Daily_Return'] = df['Close'].pct_change()\n",
    "df['Cumulative_Return'] = (1 + df['Daily_Return']).cumprod()\n",
    "\n",
    "columns_order = ['Date', 'Open', 'High', 'Low','Month','Year', 'Daily_Return', 'Cumulative_Return', 'Close']\n",
    "df=df[columns_order]\n",
    "\n",
    "print(\"Missing values:\\n\", df.isna().sum())\n",
    "print(\"\\nData types after conversion:\\n\", df.dtypes)\n",
    "\n",
    "df = df.reset_index(drop=True)\n",
    "df.head()\n"
   ]
  },
  {
   "cell_type": "markdown",
   "id": "aea8d470",
   "metadata": {},
   "source": [
    "### Insights Gained and Manipulations Performed"
   ]
  },
  {
   "cell_type": "markdown",
   "id": "2d7afc43",
   "metadata": {},
   "source": [
    "### ✅ Data Manipulations Performed:\n",
    "\n",
    "- Converted the **`Date`** column from a string format like `'Jul-05'` into proper `datetime` objects using the format `%b-%y`\n",
    "- Extracted **`Month`** and **`Year`** as separate columns from the `Date` column for easier time-based analysis\n",
    "- Calculated **`Daily_Return`** as the percentage change in the `Close` price to observe stock volatility trends\n",
    "- Computed **`Cumulative_Return`** to track long-term stock growth or decline over the dataset period\n",
    "- Reordered columns to maintain a logical structure:\n",
    "  - `Date`, `Open`, `High`, `Low`, derived features (`Month`, `Year`, `Daily_Return`, `Cumulative_Return`), and finally `Close` as the target\n",
    "- Checked and confirmed:\n",
    "  - ✅ Two missing values (`NaN`)\n",
    "  - ✅ No duplicate rows\n",
    "- Reset the DataFrame index for cleaner display and consistent referencing\n",
    "\n",
    "---\n",
    "\n",
    "### 📌 Key Insights Observed:\n",
    "\n",
    "- The dataset consists of **monthly stock price summaries** for Yes Bank\n",
    "- The data spans from **July 2005 onward**, each row representing a month\n",
    "- All numerical features (`Open`, `High`, `Low`, `Close`) are **continuous float64 values**\n",
    "- Newly derived features like `Daily_Return` and `Cumulative_Return` help assess **short-term movement and long-term performance**\n",
    "- The dataset is **clean, well-structured, and ready** for the next steps: **EDA and Visualization**\n",
    "\n"
   ]
  },
  {
   "cell_type": "code",
   "execution_count": null,
   "id": "9c106a32",
   "metadata": {},
   "outputs": [],
   "source": [
    "# Calculate return-based features for EDA\n",
    "df['Daily_Return'] = df['Close'].pct_change().fillna(0)  # First value set to 0\n",
    "df['Cumulative_Return'] = (1 + df['Daily_Return']).cumprod()"
   ]
  },
  {
   "cell_type": "markdown",
   "id": "95d8e212",
   "metadata": {},
   "source": [
    "> 📝 For EDA purposes, the first row's `Daily_Return` and `Cumulative_Return` were set to `0` instead of leaving them as `NaN`,  \n",
    "> since there's no previous value to compute returns from.  \n",
    "> This ensures a smooth visualization experience without impacting modeling — as these features will not be used in prediction.\n"
   ]
  },
  {
   "cell_type": "markdown",
   "id": "fb7c89d4",
   "metadata": {},
   "source": [
    "## ***4. Data Vizualization : Understand the relationships between variables***"
   ]
  },
  {
   "cell_type": "code",
   "execution_count": null,
   "id": "c9e40da6",
   "metadata": {},
   "outputs": [],
   "source": [
    "import matplotlib.pyplot as plt"
   ]
  },
  {
   "cell_type": "markdown",
   "id": "749e8c3d",
   "metadata": {},
   "source": [
    "# 🔶 Univariate Analysis\n",
    "\n",
    "In this section, we analyze each individual variable to understand its distribution, range, and behavior.  \n",
    "This helps us identify outliers, trends, and the general nature of each feature before exploring relationships between them.\n"
   ]
  },
  {
   "cell_type": "markdown",
   "id": "540292b0",
   "metadata": {},
   "source": [
    "### Chart 1: Line Plot of Closing Price Over Time"
   ]
  },
  {
   "cell_type": "code",
   "execution_count": null,
   "id": "c1d91ae1",
   "metadata": {},
   "outputs": [],
   "source": [
    "plt.figure(figsize=(10, 6))\n",
    "plt.plot(df['Date'], df['Close'], color='blue')\n",
    "plt.title(\"Trend of Closing Price Over Time\")\n",
    "plt.xlabel(\"Date\")\n",
    "plt.ylabel(\"Close Price\")\n",
    "plt.grid(True)\n",
    "plt.tight_layout()\n",
    "plt.show()\n"
   ]
  },
  {
   "cell_type": "markdown",
   "id": "2dff05af",
   "metadata": {},
   "source": [
    "##### 1. Why did I pick the specific chart?"
   ]
  },
  {
   "cell_type": "markdown",
   "id": "fa85b4e9",
   "metadata": {},
   "source": [
    "- A **line chart** is best suited for displaying data over time.\n",
    "- It helps to visualize the **closing price trend** of Yes Bank stocks across the timeline.\n",
    "- Ideal for identifying **growth patterns**, **volatility**, and **potential anomalies**."
   ]
  },
  {
   "cell_type": "markdown",
   "id": "a55ab28b",
   "metadata": {},
   "source": [
    "##### 2. What is/are the insight(s) found from the chart?"
   ]
  },
  {
   "cell_type": "markdown",
   "id": "27b66b8a",
   "metadata": {},
   "source": [
    "- The stock shows a **rise and fall pattern**, indicating a growth phase followed by a decline.\n",
    "- There's a significant **peak**, after which the price drops sharply.\n",
    "- The plot reveals **volatility**, useful for short-term traders and analysts."
   ]
  },
  {
   "cell_type": "markdown",
   "id": "f55803ca",
   "metadata": {},
   "source": [
    "##### 3. Will the gained insights help creating a positive business impact?\n",
    "Are there any insights that lead to negative growth? Justify with specific reason."
   ]
  },
  {
   "cell_type": "markdown",
   "id": "8cb44090",
   "metadata": {},
   "source": [
    " **Yes, positively:**  \n",
    "- Helps in **timing investments** (e.g., knowing when to buy/sell).\n",
    "- Supports forecasting for **future price trends** based on historical behavior.\n",
    "- Assists business stakeholders in making **data-driven decisions**.\n",
    "\n",
    " **Potential negative insight:**  \n",
    "- The steep fall in prices can indicate **negative investor sentiment** or **poor financial performance**.\n",
    "- Such trends, if ignored, may result in **losses** or **missed opportunities**."
   ]
  },
  {
   "cell_type": "markdown",
   "id": "0dee4f49",
   "metadata": {},
   "source": [
    "### Chart 2: Line Plot of Cumulative Return Over Time"
   ]
  },
  {
   "cell_type": "code",
   "execution_count": null,
   "id": "b8eb867f",
   "metadata": {},
   "outputs": [],
   "source": [
    "plt.figure(figsize=(12, 6))\n",
    "plt.plot(df['Date'], df['Cumulative_Return'], color='teal', linewidth=2)\n",
    "plt.title(\"Cumulative Return of Yes Bank Stock Over Time\")\n",
    "plt.xlabel(\"Date\")\n",
    "plt.ylabel(\"Cumulative Return (Growth Factor)\")\n",
    "plt.grid(True, linestyle='--', alpha=0.6)\n",
    "plt.tight_layout()\n",
    "plt.show()"
   ]
  },
  {
   "cell_type": "markdown",
   "id": "19596cb3",
   "metadata": {},
   "source": [
    "##### 1. Why did I pick the specific chart?"
   ]
  },
  {
   "cell_type": "markdown",
   "id": "130b3f14",
   "metadata": {},
   "source": [
    "This **line plot** effectively captures the **long-term growth or decline** of Yes Bank's stock.  \n",
    "By plotting the `Cumulative_Return` over time, we can visually assess the **overall investment performance**, making it perfect for identifying trends, downturns, and recovery periods in the stock’s journey.\n"
   ]
  },
  {
   "cell_type": "markdown",
   "id": "80d92643",
   "metadata": {},
   "source": [
    "##### 2. What is/are the insight(s) found from the chart?"
   ]
  },
  {
   "cell_type": "markdown",
   "id": "10f19edf",
   "metadata": {},
   "source": [
    "- The cumulative return shows clear **phases of growth followed by decline**.\n",
    "- There may be specific years where a **sharp rise or fall** occurred, possibly due to market events or company-specific developments.\n",
    "- The stock has gone through **volatile periods**, where gains were either sustained or lost rapidly.\n"
   ]
  },
  {
   "cell_type": "markdown",
   "id": "cfe79812",
   "metadata": {},
   "source": [
    "##### 3. Will the gained insights help creating a positive business impact?\n",
    "Are there any insights that lead to negative growth? Justify with specific reason."
   ]
  },
  {
   "cell_type": "markdown",
   "id": "08522e44",
   "metadata": {},
   "source": [
    "Yes. Understanding cumulative return helps:\n",
    "- **Long-term investors** evaluate overall performance and timing of their investments.\n",
    "- **Analysts** identify critical turning points in the stock’s history.\n",
    "- **Businesses or banks** benchmark their own performance or plan based on macro market shifts.\n",
    "\n",
    " **Potential negative insight:**  \n",
    "Yes — if the cumulative return dips significantly (especially toward the later years), it reflects **negative growth**, indicating a **potential long-term value loss** for investors.  \n",
    "This can be due to factors like:\n",
    "- Weak financials\n",
    "- Regulatory challenges\n",
    "- Loss of investor confidence\n",
    "\n",
    "Tracking this visually helps **manage risk** and rethink strategies."
   ]
  },
  {
   "cell_type": "markdown",
   "id": "2fa2d8c5",
   "metadata": {},
   "source": [
    "### Chart 3: Histogram of Daily Returns"
   ]
  },
  {
   "cell_type": "code",
   "execution_count": null,
   "id": "d39bd5f1",
   "metadata": {},
   "outputs": [],
   "source": [
    "plt.figure(figsize=(8,6))\n",
    "plt.hist(df['Daily_Return'].dropna(), bins=20, color='cyan', edgecolor='black')\n",
    "plt.title('Distribution of Daily Returns')\n",
    "plt.xlabel('Daily Return')\n",
    "plt.ylabel('Frequency')\n",
    "plt.tight_layout()\n",
    "plt.show()"
   ]
  },
  {
   "cell_type": "markdown",
   "id": "286920eb",
   "metadata": {},
   "source": [
    "##### 1. Why did I pick the specific chart?"
   ]
  },
  {
   "cell_type": "markdown",
   "id": "ad877575",
   "metadata": {},
   "source": [
    "A **histogram** is ideal for visualizing the **distribution of a single numerical variable**.  \n",
    "Here, we used it to observe how Yes Bank’s **Daily Returns** are spread — whether they follow a normal distribution, are skewed, or show outliers.\n"
   ]
  },
  {
   "cell_type": "markdown",
   "id": "ae1b1ddd",
   "metadata": {},
   "source": [
    "##### 2. What is/are the insight(s) found from the chart?"
   ]
  },
  {
   "cell_type": "markdown",
   "id": "5825dd76",
   "metadata": {},
   "source": [
    "- Most daily returns fall close to **0**, meaning the stock is relatively stable day-to-day.\n",
    "- There are a few bars at both extremes, indicating **occasional high gains or losses**.\n",
    "- The return distribution appears slightly **skewed**, which is common in stock data due to rare events or sudden market movements.\n"
   ]
  },
  {
   "cell_type": "markdown",
   "id": "22c16425",
   "metadata": {},
   "source": [
    "##### 3. Will the gained insights help creating a positive business impact?\n",
    "Are there any insights that lead to negative growth? Justify with specific reason."
   ]
  },
  {
   "cell_type": "markdown",
   "id": "20eeb7de",
   "metadata": {},
   "source": [
    "**Yes, positive impact:**  \n",
    "- Helps **risk analysts** assess how volatile the stock typically is.\n",
    "- **Investors** can set expectations for normal vs. extreme price changes.\n",
    "- Assists in building **realistic financial models** that assume returns aren't perfectly normal.\n",
    "\n",
    "**Potential negative insight:**  \n",
    "- Presence of extreme returns may indicate **vulnerability to sudden market shocks**.\n",
    "- Highly skewed returns could lead to **misleading average values**, affecting decision-making.\n"
   ]
  },
  {
   "cell_type": "markdown",
   "id": "f1db5f33",
   "metadata": {},
   "source": [
    "### Chart 4: Boxplot of Closing Price Distribution"
   ]
  },
  {
   "cell_type": "code",
   "execution_count": null,
   "id": "a0bc9eae",
   "metadata": {},
   "outputs": [],
   "source": [
    "plt.figure(figsize=(8, 6))\n",
    "plt.boxplot(df['Close'], vert=False)\n",
    "plt.title('Boxplot of Closing Price Distribution')\n",
    "plt.xlabel('Closing Price')\n",
    "plt.grid(True, linestyle='--', alpha=0.6)\n",
    "plt.tight_layout()\n",
    "plt.show()\n"
   ]
  },
  {
   "cell_type": "markdown",
   "id": "e281f9ff",
   "metadata": {},
   "source": [
    "##### 1. Why did I pick the specific chart?"
   ]
  },
  {
   "cell_type": "markdown",
   "id": "7daf897e",
   "metadata": {},
   "source": [
    "Boxplots are excellent for summarizing **distribution, spread, and outliers** in a single view. It gives a statistical overview of the `Close` price variation without clutter.\n"
   ]
  },
  {
   "cell_type": "markdown",
   "id": "d81d7a38",
   "metadata": {},
   "source": [
    "##### 2. What is/are the insight(s) found from the chart?"
   ]
  },
  {
   "cell_type": "markdown",
   "id": "89cc36e0",
   "metadata": {},
   "source": [
    "- The median closing price is **well below the upper extreme**, suggesting right-skewed distribution.  \n",
    "- A few **outliers** on the higher end hint at **unusual price spikes**.  \n",
    "- Majority of prices are clustered in a **narrow range**, confirming **low monthly volatility**.\n"
   ]
  },
  {
   "cell_type": "markdown",
   "id": "da56dbb7",
   "metadata": {},
   "source": [
    "##### 3. Will the gained insights help creating a positive business impact?\n",
    "Are there any insights that lead to negative growth? Justify with specific reason."
   ]
  },
  {
   "cell_type": "markdown",
   "id": "07a14aa3",
   "metadata": {},
   "source": [
    "##### 3. Will the gained insights help creating a positive business impact?\n",
    "Are there any insights that lead to negative growth? Justify with specific reason."
   ]
  },
  {
   "cell_type": "markdown",
   "id": "29b940d0",
   "metadata": {},
   "source": [
    "**Yes, positive impact**  \n",
    "- Identifies **price outliers** that may correspond to key financial events.  \n",
    "- Assists financial analysts in detecting **price consistency or anomalies**.  \n",
    "- Useful for **portfolio risk control** and benchmarking against other stocks."
   ]
  },
  {
   "cell_type": "markdown",
   "id": "8314aebd",
   "metadata": {},
   "source": [
    "### Chart 5: Frequency of Data by Month\n"
   ]
  },
  {
   "cell_type": "code",
   "execution_count": null,
   "id": "3e064785",
   "metadata": {},
   "outputs": [],
   "source": [
    "month_counts = df['Month'].value_counts().sort_index()\n",
    "\n",
    "plt.figure(figsize=(8, 5))\n",
    "plt.bar(month_counts.index, month_counts.values, color='orange', edgecolor='black')\n",
    "plt.title('Number of Entries per Month')\n",
    "plt.xlabel('Month')\n",
    "plt.ylabel('Frequency')\n",
    "plt.xticks(range(1, 13))\n",
    "plt.tight_layout()\n",
    "plt.show()\n"
   ]
  },
  {
   "cell_type": "markdown",
   "id": "bad673f4",
   "metadata": {},
   "source": [
    "##### 1. Why did I pick the specific chart?"
   ]
  },
  {
   "cell_type": "markdown",
   "id": "50dec14e",
   "metadata": {},
   "source": [
    "This bar chart helps check for **data seasonality** or **collection imbalance** across months. It confirms that each month is **equally represented**, which is crucial for fair trend analysis.\n"
   ]
  },
  {
   "cell_type": "markdown",
   "id": "90b6d054",
   "metadata": {},
   "source": [
    "##### 2. What is/are the insight(s) found from the chart?"
   ]
  },
  {
   "cell_type": "markdown",
   "id": "372f2749",
   "metadata": {},
   "source": [
    "- All months are represented fairly evenly, showing **no missing seasonal periods**.  \n",
    "- No single month is over- or under-sampled, so **monthly average comparisons are valid**.  \n",
    "- Confirms the dataset is **well-balanced** across the calendar year."
   ]
  },
  {
   "cell_type": "markdown",
   "id": "40d4a429",
   "metadata": {},
   "source": [
    "##### 3. Will the gained insights help creating a positive business impact?\n",
    "Are there any insights that lead to negative growth? Justify with specific reason."
   ]
  },
  {
   "cell_type": "markdown",
   "id": "da82cb4e",
   "metadata": {},
   "source": [
    "**Yes, positive impact**  \n",
    "- Validates the reliability of **seasonal trend analysis**.  \n",
    "- Ensures the model is trained on **balanced time-based features** like `Month`.  \n",
    "- Avoids misleading patterns due to **data bias across months**."
   ]
  },
  {
   "cell_type": "markdown",
   "id": "eea53810",
   "metadata": {},
   "source": [
    "# 🔷 Bivariate Analysis\n",
    "\n",
    "Here, we examine relationships between two variables — either numerical or categorical.  \n",
    "This helps us understand how one variable may influence or correlate with another, such as `Open` vs `Close`, or `Month` vs `Average Close`.\n"
   ]
  },
  {
   "cell_type": "markdown",
   "id": "cd7c98ba",
   "metadata": {},
   "source": [
    "## Chart 1: Bar Plot of Average Closing Price by Month"
   ]
  },
  {
   "cell_type": "code",
   "execution_count": null,
   "id": "9d220833",
   "metadata": {},
   "outputs": [],
   "source": [
    "plt.figure(figsize=(10, 6))\n",
    "monthly_avg = df.groupby('Month')['Close'].mean()\n",
    "plt.bar(monthly_avg.index, monthly_avg.values, color='green')\n",
    "plt.title(\"Average Monthly Closing Price\")\n",
    "plt.xlabel(\"Month\")\n",
    "plt.ylabel(\"Average Close Price\")\n",
    "plt.xticks(ticks=range(1, 13))\n",
    "plt.tight_layout()\n",
    "plt.show()\n"
   ]
  },
  {
   "cell_type": "markdown",
   "id": "b0bab9f9",
   "metadata": {},
   "source": [
    "##### 1. Why did I pick the specific chart?"
   ]
  },
  {
   "cell_type": "markdown",
   "id": "e1f1a8a1",
   "metadata": {},
   "source": [
    "- A **bar chart** is ideal for comparing **categorical data** like months.\n",
    "- It provides a clear visual of how the average closing price varies across the **12 months**.\n",
    "- Useful to identify **seasonal trends** or recurring **monthly patterns** in stock behavior."
   ]
  },
  {
   "cell_type": "markdown",
   "id": "c2f9dc8e",
   "metadata": {},
   "source": [
    "##### 2. What is/are the insight(s) found from the chart?"
   ]
  },
  {
   "cell_type": "markdown",
   "id": "0f2d9f43",
   "metadata": {},
   "source": [
    "- Some months (e.g., **March**, **July**) show **higher average closing prices**.\n",
    "- Other months have noticeably lower averages, hinting at **market slowdowns** or **external influences**.\n",
    "- This monthly variation suggests **cyclical or seasonal effects** on stock performance."
   ]
  },
  {
   "cell_type": "markdown",
   "id": "1c0fc9e9",
   "metadata": {},
   "source": [
    "##### 3. Will the gained insights help creating a positive business impact?\n",
    "Are there any insights that lead to negative growth? Justify with specific reason."
   ]
  },
  {
   "cell_type": "markdown",
   "id": "488689c4",
   "metadata": {},
   "source": [
    " **Yes, positive impact:**  \n",
    "- Traders and investors can use these insights to **strategically plan entries and exits**.\n",
    "- Portfolio managers can **time investments** around historically high-performing months.\n",
    "- Businesses related to finance can align marketing or campaign strategies with **high-activity months**.\n",
    "\n",
    " **Potential negative insight:**  \n",
    "- If certain months consistently underperform, it may point to **systemic issues**, such as **low liquidity** or **external macroeconomic events**.\n",
    "- Ignoring such trends could lead to **missed opportunities** or **financial setbacks**."
   ]
  },
  {
   "cell_type": "markdown",
   "id": "4783458d",
   "metadata": {},
   "source": [
    "## Chart 2: Boxplot of Closing Prices by Year"
   ]
  },
  {
   "cell_type": "code",
   "execution_count": null,
   "id": "f7b493b2",
   "metadata": {},
   "outputs": [],
   "source": [
    "plt.figure(figsize=(10, 6))\n",
    "df.boxplot(column='Close', by='Year')\n",
    "plt.title(\"Boxplot of Closing Price by Year\")\n",
    "plt.suptitle(\"\")\n",
    "plt.xlabel(\"Year\")\n",
    "plt.ylabel(\"Close Price\")\n",
    "plt.grid(True)\n",
    "plt.tight_layout()\n",
    "plt.show()\n"
   ]
  },
  {
   "cell_type": "markdown",
   "id": "b81c9b1f",
   "metadata": {},
   "source": [
    "##### 1. Why did I pick the specific chart?"
   ]
  },
  {
   "cell_type": "markdown",
   "id": "a5010ad6",
   "metadata": {},
   "source": [
    "- A **boxplot** is ideal for showing the **distribution, spread, and outliers** of data over categories (here, years).\n",
    "- It visually summarizes key statistics like **median, interquartile range (IQR), and potential outliers** in closing prices.\n",
    "- This helps identify **year-over-year volatility**, consistency, and anomalous behavior in stock performance.\n"
   ]
  },
  {
   "cell_type": "markdown",
   "id": "bf9f5103",
   "metadata": {},
   "source": [
    "##### 2. What is/are the insight(s) found from the chart?"
   ]
  },
  {
   "cell_type": "markdown",
   "id": "da4b079d",
   "metadata": {},
   "source": [
    "- Some years show a **larger spread**, indicating **higher volatility** in closing prices.\n",
    "- Years with **tight boxes** suggest **more stable** closing prices.\n",
    "- Outliers in certain years might represent **major market events or sudden stock movements**.\n",
    "- The **median line shifts** show whether the stock value has increased or decreased annually.\n"
   ]
  },
  {
   "cell_type": "markdown",
   "id": "05d1f3e1",
   "metadata": {},
   "source": [
    "##### 3. Will the gained insights help creating a positive business impact?\n",
    "Are there any insights that lead to negative growth? Justify with specific reason."
   ]
  },
  {
   "cell_type": "markdown",
   "id": "75db1113",
   "metadata": {},
   "source": [
    " **Yes, positive impact:**  \n",
    "- Helps investors and analysts evaluate **year-wise risk and reward**.\n",
    "- Businesses and portfolio managers can identify **stable vs volatile years** for informed investment decisions.\n",
    "- Detecting consistent growth or decline supports **long-term trend analysis**.\n",
    "\n",
    " **Potential negative insight:**  \n",
    "- Years with **wide IQR and many outliers** could represent **unstable trading environments**.\n",
    "- If medians consistently drop across years, it may point to **declining business performance** or **negative investor sentiment**."
   ]
  },
  {
   "cell_type": "markdown",
   "id": "ee529ae2",
   "metadata": {},
   "source": [
    "## Chart 3: Scatter Plot of Open vs Close Prices"
   ]
  },
  {
   "cell_type": "code",
   "execution_count": null,
   "id": "bfcd46e8",
   "metadata": {},
   "outputs": [],
   "source": [
    "plt.figure(figsize=(10, 6))\n",
    "plt.scatter(df['Open'], df['Close'], color='purple', alpha=0.6)\n",
    "plt.title(\"⚖️ Scatter Plot of Open vs Close Prices\")\n",
    "plt.xlabel(\"Open Price\")\n",
    "plt.ylabel(\"Close Price\")\n",
    "plt.grid(True)\n",
    "plt.tight_layout()\n",
    "plt.show()\n"
   ]
  },
  {
   "cell_type": "markdown",
   "id": "232ab4ff",
   "metadata": {},
   "source": [
    "##### 1. Why did I pick the specific chart?"
   ]
  },
  {
   "cell_type": "markdown",
   "id": "021d0b56",
   "metadata": {},
   "source": [
    "- A scatter plot is the best choice to analyze the **relationship between two continuous variables** — in this case, `Open` and `Close` prices.\n",
    "- It helps visualize **how much the stock price changed** during each trading session.\n"
   ]
  },
  {
   "cell_type": "markdown",
   "id": "091b876b",
   "metadata": {},
   "source": [
    "##### 2. What is/are the insight(s) found from the chart?"
   ]
  },
  {
   "cell_type": "markdown",
   "id": "5a1eed1d",
   "metadata": {},
   "source": [
    "- The data points are **clustered close to the diagonal**, indicating that the `Close` price is often **very close to the `Open` price**.\n",
    "- A few points are noticeably off the diagonal, showing **days with significant movement** between the opening and closing.\n",
    "- This tells us that most trading days had **moderate volatility**, with some high-volatility exceptions.\n"
   ]
  },
  {
   "cell_type": "markdown",
   "id": "646f6413",
   "metadata": {},
   "source": [
    "##### 3. Will the gained insights help creating a positive business impact?\n",
    "Are there any insights that lead to negative growth? Justify with specific reason."
   ]
  },
  {
   "cell_type": "markdown",
   "id": "85536d73",
   "metadata": {},
   "source": [
    " **Yes, positive impact:**  \n",
    "- Traders can identify **stable trading days vs. volatile ones**, aiding in planning their strategies.\n",
    "- Risk managers can use the spread to determine **how often price swings occur** in a single day.\n",
    "\n",
    " **Potential negative insight:**  \n",
    "- If the `Open` and `Close` differ too much too often, it may suggest **instability** or **market manipulation**.\n",
    "- Lack of clear upward movement may also indicate **stagnant stock performance**.\n"
   ]
  },
  {
   "cell_type": "markdown",
   "id": "573048f8",
   "metadata": {},
   "source": [
    "## Chart 4: Bar Plot of Average Monthly Closing Price"
   ]
  },
  {
   "cell_type": "code",
   "execution_count": null,
   "id": "e012e99d",
   "metadata": {},
   "outputs": [],
   "source": [
    "avg_monthly_close = df.groupby('Month')['Close'].mean()\n",
    "\n",
    "# Plotting\n",
    "plt.figure(figsize=(10,6))\n",
    "avg_monthly_close.plot(kind='bar', color='steelblue')\n",
    "plt.title('Average Closing Price by Month')\n",
    "plt.xlabel('Month')\n",
    "plt.ylabel('Average Close Price')\n",
    "plt.xticks(rotation=0)\n",
    "\n",
    "plt.tight_layout()\n",
    "plt.show()"
   ]
  },
  {
   "cell_type": "markdown",
   "id": "2bdb82e9",
   "metadata": {},
   "source": [
    "##### 1. Why did I pick the specific chart?"
   ]
  },
  {
   "cell_type": "markdown",
   "id": "5d9d05f5",
   "metadata": {},
   "source": [
    "A **bar chart** is ideal for comparing values across distinct categories — in this case, **months (1 to 12)**.  \n",
    "This visualization helps identify **seasonal patterns** or **cyclical trends** in the stock price of Yes Bank."
   ]
  },
  {
   "cell_type": "markdown",
   "id": "b243586e",
   "metadata": {},
   "source": [
    "##### 2. What is/are the insight(s) found from the chart?"
   ]
  },
  {
   "cell_type": "markdown",
   "id": "85962aed",
   "metadata": {},
   "source": [
    "- Certain months like **March and December** show noticeably higher average closing prices.\n",
    "- Mid-year months may show **lower trading activity or returns**, suggesting seasonal market behavior.\n",
    "- The stock does **not perform uniformly throughout the year**, indicating potential **cyclical investment opportunities**.\n"
   ]
  },
  {
   "cell_type": "markdown",
   "id": "7e5c1a56",
   "metadata": {},
   "source": [
    "##### 3. Will the gained insights help creating a positive business impact?\n",
    "Are there any insights that lead to negative growth? Justify with specific reason."
   ]
  },
  {
   "cell_type": "markdown",
   "id": "4cda6158",
   "metadata": {},
   "source": [
    "**Yes, positive impact:**  \n",
    "- **Traders and investors** can time their entry/exit more strategically based on historically stronger or weaker months.\n",
    "- Helps in **forecasting cash flows or demand** for stock-related products in finance firms.\n",
    "- Supports **portfolio optimization** by understanding time-based performance variation.\n",
    "\n",
    "**Potential negative insight:**  \n",
    "- If certain months consistently underperform, it may indicate **cyclical weaknesses** or **seasonal risks**.\n",
    "- Misinterpreting patterns as consistent without deeper market analysis could lead to **incorrect timing decisions**.\n"
   ]
  },
  {
   "cell_type": "markdown",
   "id": "ec44ce2e",
   "metadata": {},
   "source": [
    "## Chart 5: Top 10 Months with Highest Average Closing Price (Barh Plot)"
   ]
  },
  {
   "cell_type": "code",
   "execution_count": null,
   "id": "fe5ed95c",
   "metadata": {},
   "outputs": [],
   "source": [
    "monthly_avg = df.groupby('Month')['Close'].mean().sort_values(ascending=False).head(10)\n",
    "\n",
    "plt.figure(figsize=(8, 6))\n",
    "plt.barh(monthly_avg.index.astype(str), monthly_avg.values, color='skyblue', edgecolor='black')\n",
    "plt.xlabel('Average Closing Price')\n",
    "plt.ylabel('Month')\n",
    "plt.title('Top 10 Months with Highest Average Closing Price')\n",
    "plt.gca().invert_yaxis()  # Highest on top\n",
    "plt.tight_layout()\n",
    "plt.show()"
   ]
  },
  {
   "cell_type": "markdown",
   "id": "87b76cb3",
   "metadata": {},
   "source": [
    "##### 1. Why did I pick the specific chart?"
   ]
  },
  {
   "cell_type": "markdown",
   "id": "b34a9d04",
   "metadata": {},
   "source": [
    "A **horizontal bar chart** is best when comparing **ranked categories** like the **Top 10 months**.  \n",
    "It improves readability and helps visually emphasize which months consistently performed better.\n"
   ]
  },
  {
   "cell_type": "markdown",
   "id": "d740b4a4",
   "metadata": {},
   "source": [
    "##### 2. What is/are the insight(s) found from the chart?"
   ]
  },
  {
   "cell_type": "markdown",
   "id": "fb2906d5",
   "metadata": {},
   "source": [
    "- Certain months (like **March, December, or January**) tend to show **higher average closing prices**.\n",
    "- This may reflect **seasonal investor behavior**, **quarterly results**, or **year-end trading patterns**.\n"
   ]
  },
  {
   "cell_type": "markdown",
   "id": "a98a5f9d",
   "metadata": {},
   "source": [
    "##### 3. Will the gained insights help creating a positive business impact?\n",
    "Are there any insights that lead to negative growth? Justify with specific reason."
   ]
  },
  {
   "cell_type": "markdown",
   "id": "e183d4ef",
   "metadata": {},
   "source": [
    "**Yes, positive impact:**  \n",
    "- Traders can align entry/exit points based on historical month-wise performance.\n",
    "- Companies and analysts can anticipate when **investor confidence peaks**, supporting market communication and campaign timing.\n",
    "\n",
    "**Potential negative insight:**  \n",
    "- If certain months consistently underperform, it may **discourage investment** during those times.\n",
    "- Over-reliance on seasonal trends may cause **mistimed strategies** if market behavior shifts unexpectedly.\n"
   ]
  },
  {
   "cell_type": "markdown",
   "id": "d0f08444",
   "metadata": {},
   "source": [
    "# 🟩 Multivariate Analysis\n",
    "\n",
    "This section explores relationships between **three or more variables** simultaneously.  \n",
    "Multivariate plots like area plots or correlation heatmaps allow us to uncover complex patterns and dependencies that may not be visible in simpler plots.\n"
   ]
  },
  {
   "cell_type": "markdown",
   "id": "417b3726",
   "metadata": {},
   "source": [
    "## Chart 1: Scatter Plot of High vs Low Prices Colored by Year"
   ]
  },
  {
   "cell_type": "code",
   "execution_count": null,
   "id": "c1746f1a",
   "metadata": {},
   "outputs": [],
   "source": [
    "plt.figure(figsize=(10, 6))\n",
    "scatter = plt.scatter(df['Low'], df['High'], c=df['Year'], cmap='viridis')\n",
    "plt.title(\"High vs Low Price Scatterplot (Colored by Year)\")\n",
    "plt.xlabel(\"Low Price\")\n",
    "plt.ylabel(\"High Price\")\n",
    "cbar = plt.colorbar(scatter)\n",
    "cbar.set_label('Year')\n",
    "plt.grid(True)\n",
    "plt.tight_layout()\n",
    "plt.show()\n"
   ]
  },
  {
   "cell_type": "markdown",
   "id": "bc30f8c4",
   "metadata": {},
   "source": [
    "##### 1. Why did I pick the specific chart?"
   ]
  },
  {
   "cell_type": "markdown",
   "id": "a45efb1b",
   "metadata": {},
   "source": [
    "- A **scatter plot** is ideal for visualizing the **relationship between two continuous variables** — in this case, **Low** and **High** stock prices.\n",
    "- Coloring the points by **Year** helps show how this relationship evolves over time.\n",
    "- It allows us to detect **price volatility**, **consistency**, and **outliers**."
   ]
  },
  {
   "cell_type": "markdown",
   "id": "2d4797d6",
   "metadata": {},
   "source": [
    "##### 2. What is/are the insight(s) found from the chart?"
   ]
  },
  {
   "cell_type": "markdown",
   "id": "78e72ed0",
   "metadata": {},
   "source": [
    "- There is a **strong positive correlation** between Low and High prices, which is expected.\n",
    "- Most points fall along a near-linear trend, suggesting **predictable intra-day price movements**.\n",
    "- Some data points (far from the line) indicate **high volatility or unusual trading days**.\n",
    "- Color shading indicates certain years had **wider spreads**, suggesting greater **price instability** in those periods."
   ]
  },
  {
   "cell_type": "markdown",
   "id": "87f8297f",
   "metadata": {},
   "source": [
    "##### 3. Will the gained insights help creating a positive business impact?\n",
    "Are there any insights that lead to negative growth? Justify with specific reason."
   ]
  },
  {
   "cell_type": "markdown",
   "id": "16af74d3",
   "metadata": {},
   "source": [
    " **Yes, positive impact:**  \n",
    "- Helps traders understand **price range behavior**, which is crucial for **intraday trading** strategies.\n",
    "- Highlights years or periods with **less volatility**, which could be safer for **long-term investment**.\n",
    "- Allows risk managers to assess **periods of instability** and plan better.\n",
    "\n",
    " **Potential negative insight:**  \n",
    "- Clusters with wide High–Low spreads might indicate **market uncertainty**, making it risky for conservative investors.\n",
    "- If extreme outliers are frequent in certain years, it might reflect **external financial shocks** or **internal instability**.\n"
   ]
  },
  {
   "cell_type": "markdown",
   "id": "ec24d0b9",
   "metadata": {},
   "source": [
    "## Chart 2: Line Plot of Open and High Prices Over Time"
   ]
  },
  {
   "cell_type": "code",
   "execution_count": null,
   "id": "8728f689",
   "metadata": {},
   "outputs": [],
   "source": [
    "plt.figure(figsize=(12, 6))\n",
    "plt.plot(df['Date'], df['Open'], label='Open Price', color='red')\n",
    "plt.plot(df['Date'], df['High'], label='High Price', color='blue')\n",
    "plt.title(\"Open and High Prices Over Time\")\n",
    "plt.xlabel(\"Date\")\n",
    "plt.ylabel(\"Price\")\n",
    "plt.legend()\n",
    "plt.grid(True)\n",
    "plt.tight_layout()\n",
    "plt.show()\n"
   ]
  },
  {
   "cell_type": "markdown",
   "id": "e0c2986d",
   "metadata": {},
   "source": [
    "##### 1. Why did I pick the specific chart?"
   ]
  },
  {
   "cell_type": "markdown",
   "id": "91ed1547",
   "metadata": {},
   "source": [
    "- This line plot compares the **Open** and **High** prices over time, helping to analyze **price fluctuations** throughout the trading period.\n",
    "- It gives a sense of how far prices moved from the opening price on any given day.\n",
    "- Useful for detecting **intraday volatility trends**."
   ]
  },
  {
   "cell_type": "markdown",
   "id": "bd67ebe2",
   "metadata": {},
   "source": [
    "##### 2. What is/are the insight(s) found from the chart?"
   ]
  },
  {
   "cell_type": "markdown",
   "id": "9f7749f8",
   "metadata": {},
   "source": [
    "- The `High` price always exceeds or matches the `Open`, confirming normal stock market behavior.\n",
    "- The gap between the two lines helps understand **daily price surges** or **investor enthusiasm**.\n",
    "- Some days show a sharp rise from `Open` to `High`, suggesting **buying pressure** or **positive market sentiment**.\n"
   ]
  },
  {
   "cell_type": "markdown",
   "id": "7b4f12ae",
   "metadata": {},
   "source": [
    "##### 3. Will the gained insights help creating a positive business impact?\n",
    "Are there any insights that lead to negative growth? Justify with specific reason."
   ]
  },
  {
   "cell_type": "markdown",
   "id": "fe9d95a2",
   "metadata": {},
   "source": [
    " **Yes, positive impact:**  \n",
    "- Traders can use this to detect **momentum patterns** and **price breakouts**.\n",
    "- Companies can gauge periods of **positive investor interest**.\n",
    "\n",
    " **Potential negative insight:**  \n",
    "- Large gaps between `Open` and `High` followed by price falls could signal **speculative bubbles** or **instability**.\n"
   ]
  },
  {
   "cell_type": "markdown",
   "id": "f5626e83",
   "metadata": {},
   "source": [
    "## Chart 3: Area Plot of Close Price and Cumulative Return Over Time"
   ]
  },
  {
   "cell_type": "code",
   "execution_count": null,
   "id": "eb077da2",
   "metadata": {},
   "outputs": [],
   "source": [
    "plt.figure(figsize=(10, 6))\n",
    "plt.stackplot(df['Date'], df['Close'], df['Cumulative_Return'], \n",
    "              labels=['Close Price', 'Cumulative Return'], colors=['#6BAED6', 'green'], alpha=0.7)\n",
    "\n",
    "plt.title('Area Plot - Close Price & Cumulative Return Over Time')\n",
    "plt.xlabel('Date')\n",
    "plt.ylabel('Value')\n",
    "plt.legend(loc='upper left')\n",
    "plt.grid(alpha=0.3)\n",
    "plt.tight_layout()\n",
    "plt.show()"
   ]
  },
  {
   "cell_type": "markdown",
   "id": "0f6d8cbc",
   "metadata": {},
   "source": [
    "##### 1. Why did I pick the specific chart?"
   ]
  },
  {
   "cell_type": "markdown",
   "id": "dab1f180",
   "metadata": {},
   "source": [
    "An **area plot** effectively shows **how two related features change over time** — here, the actual **closing price** and the **cumulative return** (overall investment growth).  \n",
    "It allows the viewer to intuitively understand **both value and performance** in a single view.\n"
   ]
  },
  {
   "cell_type": "markdown",
   "id": "99b4dbf9",
   "metadata": {},
   "source": [
    "##### 2. What is/are the insight(s) found from the chart?"
   ]
  },
  {
   "cell_type": "markdown",
   "id": "1839c778",
   "metadata": {},
   "source": [
    "- The **closing price** fluctuates monthly, with clear phases of growth and decline.\n",
    "- The **cumulative return** builds over time, clearly showing how the investment grows (or dips) based on returns.\n",
    "- Some sharp drops in cumulative return may align with significant stock declines.\n"
   ]
  },
  {
   "cell_type": "markdown",
   "id": "af8582e1",
   "metadata": {},
   "source": [
    "##### 3. Will the gained insights help creating a positive business impact?\n",
    "Are there any insights that lead to negative growth? Justify with specific reason."
   ]
  },
  {
   "cell_type": "markdown",
   "id": "a19834ef",
   "metadata": {},
   "source": [
    "**Yes, positive impact:**  \n",
    "- Investors and analysts can **visually track stock performance over time**, aiding decision-making.\n",
    "- The area under `Cumulative Return` helps **evaluate long-term investment value**.\n",
    "- Can identify **periods of high volatility or steady growth**, valuable for strategy.\n",
    "\n",
    "**Potential negative insight:**  \n",
    "- If cumulative returns are **flat or declining**, it suggests **poor long-term performance**, which may **discourage investors**.\n"
   ]
  },
  {
   "cell_type": "markdown",
   "id": "604c2122",
   "metadata": {},
   "source": [
    "## Chart 4: Multiline Plot of Open, High, Low, and Close Prices Over Time"
   ]
  },
  {
   "cell_type": "code",
   "execution_count": null,
   "id": "9c82f59c",
   "metadata": {},
   "outputs": [],
   "source": [
    "plt.figure(figsize=(14, 7))\n",
    "plt.plot(df['Date'], df['Open'], label='Open', alpha=0.8)\n",
    "plt.plot(df['Date'], df['High'], label='High', alpha=0.8)\n",
    "plt.plot(df['Date'], df['Low'], label='Low', alpha=0.8)\n",
    "plt.plot(df['Date'], df['Close'], label='Close', alpha=0.8)\n",
    "\n",
    "plt.title(\"OHLC Prices Over Time\")\n",
    "plt.xlabel(\"Date\")\n",
    "plt.ylabel(\"Price\")\n",
    "plt.legend()\n",
    "plt.grid(True, linestyle='--', alpha=0.5)\n",
    "plt.tight_layout()\n",
    "plt.show()\n"
   ]
  },
  {
   "cell_type": "markdown",
   "id": "aed2a971",
   "metadata": {},
   "source": [
    "##### 1. Why did I pick the specific chart? "
   ]
  },
  {
   "cell_type": "markdown",
   "id": "3089fa91",
   "metadata": {},
   "source": [
    "To visualize the **combined movement** of all four stock price components (Open, High, Low, Close) over time in one consolidated plot."
   ]
  },
  {
   "cell_type": "markdown",
   "id": "836ebfaa",
   "metadata": {},
   "source": [
    "##### 2. What is/are the insight(s) found from the chart?"
   ]
  },
  {
   "cell_type": "markdown",
   "id": "211b9093",
   "metadata": {},
   "source": [
    "- As expected, the `Close` and `Open` prices typically lie between `High` and `Low`.  \n",
    "- Certain periods show significant **price volatility**, with large gaps between `High` and `Low`.  \n",
    "- Some months have a **noticeable spread** between `Open` and `Close`, indicating potential market reactions or investor sentiment shifts."
   ]
  },
  {
   "cell_type": "markdown",
   "id": "651c3906",
   "metadata": {},
   "source": [
    "##### 3. Will the gained insights help creating a positive business impact?\n",
    "Are there any insights that lead to negative growth? Justify with specific reason."
   ]
  },
  {
   "cell_type": "markdown",
   "id": "c82d4f8b",
   "metadata": {},
   "source": [
    "**Yes, positive impact:**    \n",
    "- Helps analysts detect **volatile vs. stable periods**.  \n",
    "- Useful for short-term traders to estimate **intraday movement trends**.  \n",
    "- Aids risk assessment and **trade planning strategies**."
   ]
  },
  {
   "cell_type": "markdown",
   "id": "52b2536d",
   "metadata": {},
   "source": [
    "## Chart 5: Grouped Bar Chart of Yearly Average Prices (Open, Close, High)"
   ]
  },
  {
   "cell_type": "code",
   "execution_count": null,
   "id": "35d17fa2",
   "metadata": {},
   "outputs": [],
   "source": [
    "grouped = df.groupby('Year')[['Open', 'Close', 'High']].mean()\n",
    "\n",
    "# Plotting\n",
    "grouped.plot(kind='bar', figsize=(14, 6), width=0.8)\n",
    "plt.title('Yearly Average of Open, Close, and High Prices')\n",
    "plt.xlabel('Year')\n",
    "plt.ylabel('Average Price')\n",
    "plt.grid(axis='y', linestyle='--', alpha=0.7)\n",
    "plt.tight_layout()\n",
    "plt.show()\n"
   ]
  },
  {
   "cell_type": "markdown",
   "id": "b3685cbf",
   "metadata": {},
   "source": [
    "##### 1. Why did I pick the specific chart? "
   ]
  },
  {
   "cell_type": "markdown",
   "id": "fcbd1be4",
   "metadata": {},
   "source": [
    "The grouped bar chart was chosen to visually compare the **average yearly values** of the three key stock price indicators — `Open`, `Close`, and `High`. This type of chart is ideal for spotting **relative trends** across different years, making it easier to see which years performed better overall in the market.\n"
   ]
  },
  {
   "cell_type": "markdown",
   "id": "81a8f897",
   "metadata": {},
   "source": [
    "##### 2. What is/are the insight(s) found from the chart?"
   ]
  },
  {
   "cell_type": "markdown",
   "id": "e49b6119",
   "metadata": {},
   "source": [
    "- Some years, such as 2017 and 2018, have **higher average prices**, indicating better stock performance.  \n",
    "- Recent years show a **decline in all three values**, hinting at a possible downturn.  \n",
    "- The `High` price is consistently above both `Open` and `Close`, showing natural market fluctuations.  \n",
    "- The `Close` and `Open` prices remain close, suggesting limited daily trading movement in several periods.\n"
   ]
  },
  {
   "cell_type": "markdown",
   "id": "1d434c92",
   "metadata": {},
   "source": [
    "##### 3. Will the gained insights help creating a positive business impact?\n",
    "Are there any insights that lead to negative growth? Justify with specific reason."
   ]
  },
  {
   "cell_type": "markdown",
   "id": "2e26c442",
   "metadata": {},
   "source": [
    "**Yes, positive impact**\n",
    "- It helps long-term investors identify **profitable vs. underperforming years**.  \n",
    "- Analysts can use this pattern to **correlate external events** (like policy changes, crises) with stock performance.  \n",
    "- Strategic financial decisions can be supported by observing how the stock evolved over time.\n",
    "\n",
    "**Potential Negative insight**  \n",
    "- However, consistent decline in recent years may warn investors of **market instability or weak fundamentals**, which is crucial for risk management.\n"
   ]
  },
  {
   "cell_type": "markdown",
   "id": "3e68fadd",
   "metadata": {},
   "source": [
    "Date\tOpen\tHigh\tLow\tMonth\tYear\tDaily_Return\tCumulative_Return\tClose"
   ]
  },
  {
   "cell_type": "markdown",
   "id": "403f8531",
   "metadata": {},
   "source": [
    "## ***5. Hypothesis Testing***"
   ]
  },
  {
   "cell_type": "markdown",
   "id": "45f42029",
   "metadata": {},
   "source": [
    "### 📌 Hypothetical Statements (Null Hypotheses - H₀)\n",
    "\n",
    "1. **H₀₁**: There is **no significant difference** in the average closing price between **early months (Jan–Jun)** and **later months (Jul–Dec)**.\n",
    "\n",
    "2. **H₀₂**: The average **High Price** is **equal** to the average **Low Price** (i.e., price spread is not significant over time).\n",
    "\n",
    "3. **H₀₃**: The **monthly closing price** has **no correlation** with the **monthly opening price**.\n"
   ]
  },
  {
   "cell_type": "markdown",
   "id": "55eb8990",
   "metadata": {},
   "source": [
    "## ***6. Feature Engineering & Data Pre-processing***"
   ]
  },
  {
   "cell_type": "markdown",
   "id": "6394eb45",
   "metadata": {},
   "source": [
    "### 1. Handling Missing Values"
   ]
  },
  {
   "cell_type": "code",
   "execution_count": null,
   "id": "f17871a5",
   "metadata": {},
   "outputs": [],
   "source": [
    "print(\"No missing values found -\")\n",
    "df.isna().sum() "
   ]
  },
  {
   "cell_type": "markdown",
   "id": "b28f9851",
   "metadata": {},
   "source": [
    "After inspecting the dataset using `df.isna().sum()`, we observed that **there are no missing values** across any of the columns.\n"
   ]
  },
  {
   "cell_type": "markdown",
   "id": "b673c342",
   "metadata": {},
   "source": [
    "### 2. Handling Outliers"
   ]
  },
  {
   "cell_type": "code",
   "execution_count": null,
   "id": "e2fc4208",
   "metadata": {},
   "outputs": [],
   "source": [
    "num_cols = ['Open', 'High', 'Low', 'Close']\n",
    "original_data=df.copy()\n",
    "for col in num_cols:\n",
    "    Q1 = df[col].quantile(0.25)\n",
    "    Q3 = df[col].quantile(0.75)\n",
    "    IQR = Q3 - Q1\n",
    "    lower_bound = Q1 - 1.5 * IQR\n",
    "    upper_bound = Q3 + 1.5 * IQR\n",
    "\n",
    "    outliers = df[(df[col] < lower_bound) | (df[col] > upper_bound)]\n",
    "    print(f\"🔎 {col}: {outliers.shape[0]} outliers detected\")\n",
    "    df= df[(df[col] >= lower_bound) & (df[col] <= upper_bound)]\n",
    "df.reset_index(drop=True, inplace=True)\n",
    "print(\"All Outliers removed\")\n"
   ]
  },
  {
   "cell_type": "markdown",
   "id": "372e6f4b",
   "metadata": {},
   "source": [
    "### 2. Feature Manipulation and Selection\n",
    "Date\tOpen\tHigh\tLow\tMonth\tYear\tDaily_Return\tCumulative_Return\tClose"
   ]
  },
  {
   "cell_type": "markdown",
   "id": "b53a8a4e",
   "metadata": {},
   "source": [
    "#### 1. Feature Manipulation\n",
    "There is no need of feature manipultaion in the prepared dataset till now"
   ]
  },
  {
   "cell_type": "markdown",
   "id": "5c49dd02",
   "metadata": {},
   "source": [
    "#### 2. Feature Selection\n"
   ]
  },
  {
   "cell_type": "code",
   "execution_count": null,
   "id": "f29db87b",
   "metadata": {},
   "outputs": [],
   "source": [
    "features=df[['Open','Low','High']]\n",
    "target=df['Close']"
   ]
  },
  {
   "cell_type": "markdown",
   "id": "508c9d42",
   "metadata": {},
   "source": [
    "### What all feature selection methods used  and why?"
   ]
  },
  {
   "cell_type": "markdown",
   "id": "e9762017",
   "metadata": {},
   "source": [
    "**In this project, manual domain-driven feature selection was used based on the following:**\n",
    "\n",
    "**1. Correlation with Target (Close)**\n",
    "\n",
    "Visual and statistical analysis showed that features like Open, High, and Low are highly correlated with the target variable Close, making them strong predictors.\n",
    "\n",
    "- Features like Date, Month, Year, Daily_Return, and Cumulative_Return were excluded from modeling because:\n",
    "\n",
    "- Date is not numeric or directly predictive.\n",
    " \n",
    "- Month/Year are already indirectly captured in price movements.\n",
    " \n",
    "- Daily_Return and Cumulative_Return are derived from Close, and including them would leak target information.\n",
    "\n",
    "**2. Business Logic** \n",
    "\n",
    "- From a financial standpoint, it is reasonable to assume that a stock’s Open, High, and Low prices within a period influence the Close price.\n",
    "Including only these ensures the model remains interpretable and avoids redundancy."
   ]
  },
  {
   "cell_type": "markdown",
   "id": "a09d93e0",
   "metadata": {},
   "source": [
    "### Which features found important and why?"
   ]
  },
  {
   "cell_type": "markdown",
   "id": "c9fb2bb8",
   "metadata": {},
   "source": [
    "Based on exploratory analysis, statistical correlation, and domain understanding, the following features were found important for predicting the Close price of Yes Bank stock:\n",
    "\n",
    "**1. Open**\n",
    "\n",
    "- Represents the price at which the stock starts trading for the day.\n",
    "\n",
    "- Often strongly correlated with the closing price, especially in stable market conditions.\n",
    "\n",
    "**2. High**\n",
    "\n",
    "- Captures the maximum price during the trading day.\n",
    "\n",
    "- Provides insights into intraday volatility and market optimism.\n",
    "\n",
    "**3. Low**\n",
    "\n",
    "- Captures the minimum price during the trading day.\n",
    "\n",
    "- Helps model how low the stock can potentially go in a session."
   ]
  },
  {
   "cell_type": "markdown",
   "id": "445a79c7",
   "metadata": {},
   "source": [
    "### 3. Data Splitting"
   ]
  },
  {
   "cell_type": "code",
   "execution_count": null,
   "id": "7019a5c6",
   "metadata": {},
   "outputs": [],
   "source": [
    "from sklearn.model_selection import train_test_split as tts\n",
    "x_train,x_test,y_train,y_test=tts(features,target,test_size=0.2,random_state=2)"
   ]
  },
  {
   "cell_type": "markdown",
   "id": "0cecca1d",
   "metadata": {},
   "source": [
    "We have used an 80:20 split ratio for dividing the dataset into training and testing sets:\n",
    "80% of the data is used for training the model (x_train, y_train)\n",
    "20% of the data is used for testing and evaluating the model (x_test, y_test)\n",
    "\n",
    "#### **Why this ratio?**\n",
    "The 80:20 ratio is a widely accepted standard in supervised machine learning.\n",
    "\n",
    "- It ensures that the model has sufficient data to learn patterns effectively.\n",
    "\n",
    "- Keeps a meaningful portion aside to test model performance on unseen data, helping evaluate its generalization ability.\n",
    "\n",
    "- Helps to reduce overfitting and ensures balanced model validation.\n",
    "\n",
    "This split provides a good trade-off between training accuracy and validation reliability."
   ]
  },
  {
   "cell_type": "markdown",
   "id": "51b7846b",
   "metadata": {},
   "source": [
    "## ***7. ML Model Implementation***"
   ]
  },
  {
   "cell_type": "markdown",
   "id": "6417c100",
   "metadata": {},
   "source": [
    "### 1. Linear Regression"
   ]
  },
  {
   "cell_type": "code",
   "execution_count": null,
   "id": "8f8d03b7",
   "metadata": {},
   "outputs": [],
   "source": [
    "from sklearn.linear_model import LinearRegression\n",
    "from sklearn.metrics import mean_absolute_error, r2_score\n",
    "LR=LinearRegression()\n",
    "LR.fit(x_train,y_train)\n",
    "y_predict=LR.predict(x_test)\n",
    "\n",
    "#Model evaluation\n",
    "mae = mean_absolute_error(y_test, y_predict)\n",
    "r2 = r2_score(y_test, y_predict)\n",
    "\n",
    "print(\"Linear Regression Performance:\")\n",
    "print(\"MAE : \",mae)\n",
    "print(\"R² Score :\",r2)"
   ]
  },
  {
   "cell_type": "markdown",
   "id": "0f622a71",
   "metadata": {},
   "source": [
    "Linear Regression is a simple and interpretable regression model that assumes a linear relationship between the input features (e.g., Open, High, Low) and the target variable (Close Price). It serves as a baseline model for comparison with more complex models.\n",
    "\n",
    "📉 Model Performance Evaluation:\n",
    "**We evaluated the Linear Regression model using the following metrics:**\n",
    "\n",
    "- **R² Score :** (Coefficient of Determination): Measures how well the predicted values match the actual values.\n",
    "\n",
    "- **Mean Absolute Error (MAE) :** Average of absolute differences between actual and predicted values."
   ]
  },
  {
   "cell_type": "code",
   "execution_count": null,
   "id": "d50b4081",
   "metadata": {},
   "outputs": [],
   "source": [
    "metrics = ['MAE', 'R² Score']\n",
    "values = [mae, r2]\n",
    "\n",
    "# Bar Plot\n",
    "plt.figure(figsize=(8, 5))\n",
    "bars = plt.bar(metrics, values, color=['cyan', 'red'], edgecolor='black')\n",
    "plt.title('Evaluation Metrics - Linear Regression')\n",
    "plt.ylabel('Score')\n",
    "for bar in bars:\n",
    "    yval = bar.get_height()\n",
    "    plt.text(bar.get_x() + bar.get_width()/2.0, yval, round(yval, 4), ha='center', va='bottom')\n",
    "\n",
    "plt.figure(figsize=(10, 6))\n",
    "#Line Plot\n",
    "plt.plot(y_test.values, label='Actual', color='blue')\n",
    "plt.plot(y_predict, label='Predicted', color='red')\n",
    "plt.title('Actual vs Predicted Close Price (Linear Regression)')\n",
    "plt.xlabel('Index')\n",
    "plt.ylabel('Close Price')\n",
    "plt.legend()\n",
    "plt.grid(True)\n",
    "plt.tight_layout()\n",
    "plt.show()"
   ]
  },
  {
   "cell_type": "markdown",
   "id": "87c2517a",
   "metadata": {},
   "source": [
    "####  Cross - Validation & Hyperparameter Tuning"
   ]
  },
  {
   "cell_type": "code",
   "execution_count": null,
   "id": "ba3a5660",
   "metadata": {},
   "outputs": [],
   "source": [
    "from sklearn.model_selection import cross_val_score\n",
    "cv_scores = cross_val_score(LR, features, target, cv=5, scoring='r2')\n",
    "\n",
    "# Print results\n",
    "print(\"Cross-Validation R² Scores for each fold:\", cv_scores)\n",
    "print(\"Average R² Score:\", np.mean(cv_scores))\n",
    "print(\"Standard Deviation:\", np.std(cv_scores))"
   ]
  },
  {
   "cell_type": "markdown",
   "id": "ab104514",
   "metadata": {},
   "source": [
    "A **Linear Regression** model, which does not have any significant hyperparameters that require manual tuning. Therefore, **hyperparameter optimization was not required** for this specific model.\n",
    "\n",
    "However, for models with tunable parameters (like Decision Trees, Random Forests, or XGBoost), techniques like **Grid Search** or **Randomized Search** with **Cross-Validation** would be appropriate to find the best combination of hyperparameters and improve model performance.\n"
   ]
  },
  {
   "cell_type": "markdown",
   "id": "e6360cd8",
   "metadata": {},
   "source": [
    "### 2. Ridge Regression"
   ]
  },
  {
   "cell_type": "code",
   "execution_count": null,
   "id": "9c488c1c",
   "metadata": {},
   "outputs": [],
   "source": [
    "from sklearn.linear_model import Ridge\n",
    "from sklearn.metrics import mean_absolute_error, r2_score\n",
    "\n",
    "\n",
    "R= Ridge(alpha=1.0)  \n",
    "R.fit(x_train, y_train)\n",
    "\n",
    "y_predict = R.predict(x_test)\n",
    "\n",
    "mae= mean_absolute_error(y_test, y_predict)\n",
    "r2= r2_score(y_test, y_predict)\n",
    "\n",
    "print(\"Ridge Regression Performance:\")\n",
    "print(\"MAE:\", mae)\n",
    "print(\"R² Score:\", r2)"
   ]
  },
  {
   "cell_type": "markdown",
   "id": "1389b3b1",
   "metadata": {},
   "source": [
    "The **Ridge Regression** model was used as the second machine learning model for predicting the closing price of Yes Bank stock.\n",
    "\n",
    "- Ridge Regression is a regularized linear regression model that helps to prevent overfitting by adding an L2 penalty to the loss function.\n",
    "\n",
    "- It is particularly useful when the dataset has multicollinearity (i.e., correlated features), which can destabilize ordinary least squares regression.\n",
    "\n",
    "**Model Performance Metrics:**\n",
    "- **Mean Absolute Error (MAE):** Measures the average magnitude of errors in predictions, without considering their direction.\n",
    "\n",
    "- **R² Score:** Indicates how well the model explains the variance in the target variable. A higher value (closer to 1) indicates better performance."
   ]
  },
  {
   "cell_type": "code",
   "execution_count": null,
   "id": "92e03dfb",
   "metadata": {},
   "outputs": [],
   "source": [
    "metrics = ['MAE', 'R² Score']\n",
    "values = [mae, r2]\n",
    "\n",
    "plt.figure(figsize=(10, 6))\n",
    "bars = plt.bar(metrics, values, color=['orange', 'seagreen'])\n",
    "\n",
    "# Annotate values on bars\n",
    "for bar in bars:\n",
    "    yval = bar.get_height()\n",
    "    plt.text(bar.get_x() + 0.25, yval + 0.01, round(yval, 3))\n",
    "\n",
    "plt.title(\"Ridge Regression Performance Metrics\")\n",
    "plt.ylabel(\"Score\")\n",
    "plt.ylim(0, max(values) + 0.1)\n",
    "\n",
    "\n",
    "plt.title(\"Ridge Regression Evaluation Metrics\")\n",
    "plt.ylabel(\"Score\")\n",
    "plt.ylim(0, max(values) + 0.1)\n",
    "\n",
    "plt.figure(figsize=(6, 4))\n",
    "plt.plot(metrics, values, marker='o', linestyle='-', color='teal', linewidth=2)\n",
    "\n",
    "plt.tight_layout()\n",
    "plt.show()"
   ]
  },
  {
   "cell_type": "markdown",
   "id": "7e3b381b",
   "metadata": {},
   "source": [
    "####  Cross - Validation & Hyperparameter Tuning"
   ]
  },
  {
   "cell_type": "code",
   "execution_count": null,
   "id": "3a5040b5",
   "metadata": {},
   "outputs": [],
   "source": [
    "from sklearn.model_selection import GridSearchCV\n",
    "from sklearn.metrics import make_scorer\n",
    "\n",
    "param_grid = {'alpha': [0.01, 0.1, 1, 10, 100]}\n",
    "\n",
    "# Use R² score for evaluation\n",
    "sc = make_scorer(r2_score)\n",
    "\n",
    "# Perform Grid Search with 5-fold Cross-Validation\n",
    "grid_search = GridSearchCV(estimator=R, param_grid=param_grid,cv=5, scoring=sc, n_jobs=-1)\n",
    "\n",
    "\n",
    "grid_search.fit(x_train, y_train)\n",
    "\n",
    "best_alpha = grid_search.best_params_['alpha']\n",
    "best_score = grid_search.best_score_\n",
    "\n",
    "print(\"Best alpha value:\", best_alpha)\n",
    "print(\"Best cross-validated R² score:\", round(best_score, 4))\n",
    "\n",
    "best_ridge = Ridge(best_alpha)\n",
    "best_ridge.fit(x_train, y_train)\n",
    "\n",
    "# Predict on test set\n",
    "y_pred_ridge_tuned = best_ridge.predict(x_test)\n",
    "\n",
    "# Re-evaluate\n",
    "mae_tuned = mean_absolute_error(y_test, y_pred_ridge_tuned)\n",
    "r2_tuned = r2_score(y_test, y_pred_ridge_tuned)\n",
    "\n",
    "print(\"Tuned Ridge Regression Evaluation:\")\n",
    "print(\"MAE:\", round(mae_tuned, 4))\n",
    "print(\"R² Score:\", round(r2_tuned, 4))"
   ]
  },
  {
   "cell_type": "markdown",
   "id": "13470f00",
   "metadata": {},
   "source": [
    "- Used **GridSearchCV** to tune the `alpha` hyperparameter in Ridge Regression.\n",
    "- Evaluated model using **5-fold cross-validation** and **R² score** as the performance metric.\n",
    "- Explored multiple `alpha` values: `0.01`, `0.1`, `1`, `10`, `100`.\n",
    "- Identified the best `alpha` that gives the **highest average R² score** across folds.\n",
    "- This ensures the Ridge model generalizes well and avoids overfitting or underfitting.\n"
   ]
  },
  {
   "cell_type": "markdown",
   "id": "2b8cb10e",
   "metadata": {},
   "source": [
    "After performing cross-validation and hyperparameter tuning using GridSearchCV on the Ridge Regression model, we evaluated the performance before and after tuning.\n",
    "\n",
    "| Metric                    | Before Tuning | After Tuning (α = 100) |\n",
    "| ------------------------- | ------------- | ---------------------- |\n",
    "| MAE (Mean Absolute Error) | **3.7309**    | **3.7369**             |\n",
    "| R² Score                  | **0.99147**   | **0.99140**            |\n",
    "\n",
    "\n",
    "**Conclusion:**\n",
    "- No significant improvement was observed in terms of MAE or R² score.\n",
    "\n",
    "- In fact, there's a slight increase in MAE after tuning, and R² decreased marginally.\n",
    "\n",
    "- This suggests that the default parameters of Ridge Regression were already well-optimized for this dataset, and further tuning with the selected alpha values did not enhance the performance meaningfully."
   ]
  },
  {
   "cell_type": "markdown",
   "id": "1679a753",
   "metadata": {},
   "source": [
    "### 3. Support Vector Regtressor"
   ]
  },
  {
   "cell_type": "code",
   "execution_count": 62,
   "id": "c0971eb1",
   "metadata": {},
   "outputs": [
    {
     "name": "stdout",
     "output_type": "stream",
     "text": [
      "Support Vector Regressor Performance:\n",
      "MAE: 26.9089\n",
      "R² Score: 0.4547\n"
     ]
    }
   ],
   "source": [
    "from sklearn.svm import SVR\n",
    "\n",
    "svr = SVR()  \n",
    "\n",
    "svr.fit(x_train, y_train)\n",
    "\n",
    "y_predict = svr.predict(x_test)\n",
    "\n",
    "# Evaluate\n",
    "mae_svr = mean_absolute_error(y_test, y_predict)\n",
    "r2_svr = r2_score(y_test, y_predict)\n",
    "\n",
    "print(\"Support Vector Regressor Performance:\")\n",
    "print(\"MAE:\", round(mae_svr, 4))\n",
    "print(\"R² Score:\", round(r2_svr, 4))\n"
   ]
  },
  {
   "cell_type": "markdown",
   "id": "8b22c957",
   "metadata": {},
   "source": [
    "The **Support Vector Regressor (SVR)** is a powerful machine learning algorithm used for regression tasks. It works by finding a function that has at most ε deviation from the actual target values for all training data, while also being as flat as possible. SVR is particularly useful when the data is high-dimensional or when we want to model nonlinear relationships using kernel functions.\n",
    "\n",
    "After training the SVR model on the dataset, the following evaluation metrics were obtained:\n",
    "| Metric                    | Value       |\n",
    "| ------------------------- | ----------- |\n",
    "| MAE (Mean Absolute Error) | **26.9089** |\n",
    "| R² Score                  | **0.4547**  |\n",
    "\n",
    "**Interpretation:**\n",
    "\n",
    "- The MAE value is relatively high, suggesting that the average error between predicted and actual values is significant.\n",
    "\n",
    "- The R² Score of 0.4547 indicates that the model explains only ~45% of the variance in the target variable, which is much lower than the previous models (Linear Regression and Ridge).\n",
    "\n",
    "This suggests that SVR did not perform well for this dataset, likely due to the scale, range, or linear nature of the features involved."
   ]
  },
  {
   "cell_type": "code",
   "execution_count": null,
   "id": "6ed6009a",
   "metadata": {},
   "outputs": [],
   "source": [
    "plt.figure(figsize=(8, 5))\n",
    "metrics = ['MAE', 'R² Score']\n",
    "scores = [mae_svr, r2_svr]\n",
    "\n",
    "plt.bar(metrics, scores, color=['orange', 'purple'], edgecolor='black')\n",
    "plt.title(\"SVR - Evaluation Metric Scores\")\n",
    "plt.ylabel(\"Score\")\n",
    "plt.ylim(0, max(scores) + 5)\n",
    "\n",
    "plt.figure(figsize=(8, 5))\n",
    "plt.plot(metrics, scores, marker='o', linestyle='-', color='teal', linewidth=2)\n",
    "plt.title(\"SVR - Evaluation Metric Scores (Line Plot)\")\n",
    "plt.ylabel(\"Score\")\n",
    "plt.ylim(0, max(scores) + 5)\n",
    "plt.grid(True, linestyle='--', alpha=0.6)\n",
    "\n",
    "plt.tight_layout()\n",
    "plt.show()"
   ]
  },
  {
   "cell_type": "markdown",
   "id": "617912e3",
   "metadata": {},
   "source": [
    "#### Cross- Validation & Hyperparameter Tuning"
   ]
  },
  {
   "cell_type": "code",
   "execution_count": 61,
   "id": "94d0c4f9",
   "metadata": {},
   "outputs": [
    {
     "name": "stdout",
     "output_type": "stream",
     "text": [
      "Best Parameters for SVR: {'C': 0.1, 'epsilon': 0.5, 'kernel': 'linear'}\n",
      "Best Cross-Validated R² Score: 0.9816\n",
      "Tuned SVR Model Performance:\n",
      "MAE: 3.5716\n",
      "R² Score: 0.9914\n"
     ]
    }
   ],
   "source": [
    "from sklearn.model_selection import GridSearchCV\n",
    "from sklearn.metrics import make_scorer\n",
    "\n",
    "param_grid = {'kernel': ['linear', 'rbf'],'C': [0.1, 1, 10],'epsilon': [0.1, 0.2, 0.5]}\n",
    "\n",
    "scorer = make_scorer(r2_score)\n",
    "\n",
    "grid_svr = GridSearchCV(estimator=svr,param_grid=param_grid,scoring=scorer,cv=5,n_jobs=-1)\n",
    "\n",
    "grid_svr.fit(x_train, y_train)\n",
    "\n",
    "# Get the best parameters and score\n",
    "bp_svr = grid_svr.best_params_\n",
    "bs_svr = grid_svr.best_score_\n",
    "\n",
    "print(\"Best Parameters for SVR:\", bp_svr)\n",
    "print(\"Best Cross-Validated R² Score:\", round(bs_svr, 4))\n",
    "\n",
    "best_svr = grid_svr.best_estimator_\n",
    "\n",
    "y_predict_svr_tuned = best_svr.predict(x_test)\n",
    "\n",
    "# Evaluate performance\n",
    "mae_svr_tuned = mean_absolute_error(y_test, y_predict_svr_tuned)\n",
    "r2_svr_tuned = r2_score(y_test, y_predict_svr_tuned)\n",
    "\n",
    "print(\"Tuned SVR Model Performance:\")\n",
    "print(\"MAE:\", round(mae_svr_tuned, 4))\n",
    "print(\"R² Score:\", round(r2_svr_tuned, 4))\n"
   ]
  },
  {
   "cell_type": "markdown",
   "id": "d821745f",
   "metadata": {},
   "source": [
    "I used **GridSearchCV** for hyperparameter optimization. GridSearchCV exhaustively searches over a specified parameter grid and evaluates model performance using cross-validation. It is useful because:\n",
    "\n",
    "- It helps systematically find the best combination of hyperparameters.\n",
    "\n",
    "- It reduces the chances of underfitting or overfitting.\n",
    "\n",
    "- It ensures a more generalized model by validating across multiple data splits.\n",
    "\n",
    "For SVR, I tuned parameters like C, epsilon, and kernel to improve prediction performance."
   ]
  },
  {
   "cell_type": "markdown",
   "id": "1052461b",
   "metadata": {},
   "source": [
    "There has been a substantial improvement in the model's performance after applying hyperparameter tuning to the Support Vector Regressor (SVR). Below is a comparison of the evaluation metrics before and after tuning:\n",
    "\n",
    "| Metric       | Before Tuning | After Tuning |\n",
    "| ------------ | ------------- | ------------ |\n",
    "| **MAE**      | 26.9089       | 3.5716       |\n",
    "| **R² Score** | 0.4547        | 0.9914       |\n",
    "\n",
    "\n",
    "\n",
    "\n",
    "**Interpretation:**\n",
    "- Before tuning, the SVR model had a high Mean Absolute Error (MAE) and a low R² score, indicating poor predictive accuracy and limited ability to explain variance in the target variable.\n",
    "\n",
    "- After tuning, by adjusting parameters such as C, epsilon, and kernel, the model was able to significantly reduce the MAE and drastically improve the R² score.\n",
    "\n",
    "This means the model is now much better at capturing the relationship between input features and the target, providing more reliable and accurate predictions.\n",
    "\n",
    "The improvement clearly highlights the importance of hyperparameter tuning in enhancing model performance."
   ]
  }
 ],
 "metadata": {
  "kernelspec": {
   "display_name": "Python 3",
   "language": "python",
   "name": "python3"
  },
  "language_info": {
   "codemirror_mode": {
    "name": "ipython",
    "version": 3
   },
   "file_extension": ".py",
   "mimetype": "text/x-python",
   "name": "python",
   "nbconvert_exporter": "python",
   "pygments_lexer": "ipython3",
   "version": "3.10.0"
  }
 },
 "nbformat": 4,
 "nbformat_minor": 5
}
